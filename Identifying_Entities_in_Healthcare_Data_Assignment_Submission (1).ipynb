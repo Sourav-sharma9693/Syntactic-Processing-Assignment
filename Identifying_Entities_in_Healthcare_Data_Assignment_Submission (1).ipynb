{
  "cells": [
    {
      "cell_type": "markdown",
      "metadata": {
        "id": "6LwVf93K7WUg"
      },
      "source": [
        "# Identifying Entities in Healthcare Data Assignment\n",
        "By: Sourav Sharma\n"
      ]
    },
    {
      "cell_type": "markdown",
      "metadata": {
        "id": "eVBDXh7C7WUj"
      },
      "source": [
        "### Import and Install useful packages"
      ]
    },
    {
      "cell_type": "code",
      "execution_count": 1,
      "metadata": {
        "id": "1g1J0VBMSnNn",
        "colab": {
          "base_uri": "https://localhost:8080/"
        },
        "outputId": "2ac1a18e-7464-44f6-e851-60cc93b7066b"
      },
      "outputs": [
        {
          "output_type": "stream",
          "name": "stdout",
          "text": [
            "Mounted at /content/gdrive\n"
          ]
        }
      ],
      "source": [
        "# Setting up Google Colab for usage\n",
        "import pathlib\n",
        "import os\n",
        "from google.colab import drive\n",
        "drive.mount('/content/gdrive')\n",
        "base_dir = pathlib.Path('/content/gdrive/My Drive/Syntactic Processing - Assignment')\n",
        "os.chdir(str(base_dir))"
      ]
    },
    {
      "cell_type": "code",
      "execution_count": 2,
      "metadata": {
        "id": "7jhGSjl-TpvT",
        "colab": {
          "base_uri": "https://localhost:8080/"
        },
        "outputId": "02d64b03-c280-41c0-cfea-05fff31795e8"
      },
      "outputs": [
        {
          "output_type": "stream",
          "name": "stdout",
          "text": [
            "test_label  test_sent  train_label  train_sent\n"
          ]
        }
      ],
      "source": [
        "!ls"
      ]
    },
    {
      "cell_type": "code",
      "execution_count": 4,
      "metadata": {
        "id": "YmI9vmmZTvHS",
        "colab": {
          "base_uri": "https://localhost:8080/"
        },
        "outputId": "dde3d6d8-400e-4f2b-c3aa-5df809defd73"
      },
      "outputs": [
        {
          "output_type": "stream",
          "name": "stdout",
          "text": [
            "Requirement already satisfied: pycrf in /usr/local/lib/python3.10/dist-packages (0.0.1)\n",
            "Requirement already satisfied: sklearn-crfsuite in /usr/local/lib/python3.10/dist-packages (0.5.0)\n",
            "Requirement already satisfied: python-crfsuite>=0.9.7 in /usr/local/lib/python3.10/dist-packages (from sklearn-crfsuite) (0.9.11)\n",
            "Requirement already satisfied: scikit-learn>=0.24.0 in /usr/local/lib/python3.10/dist-packages (from sklearn-crfsuite) (1.5.2)\n",
            "Requirement already satisfied: tabulate>=0.4.2 in /usr/local/lib/python3.10/dist-packages (from sklearn-crfsuite) (0.9.0)\n",
            "Requirement already satisfied: tqdm>=2.0 in /usr/local/lib/python3.10/dist-packages (from sklearn-crfsuite) (4.66.5)\n",
            "Requirement already satisfied: numpy>=1.19.5 in /usr/local/lib/python3.10/dist-packages (from scikit-learn>=0.24.0->sklearn-crfsuite) (1.26.4)\n",
            "Requirement already satisfied: scipy>=1.6.0 in /usr/local/lib/python3.10/dist-packages (from scikit-learn>=0.24.0->sklearn-crfsuite) (1.13.1)\n",
            "Requirement already satisfied: joblib>=1.2.0 in /usr/local/lib/python3.10/dist-packages (from scikit-learn>=0.24.0->sklearn-crfsuite) (1.4.2)\n",
            "Requirement already satisfied: threadpoolctl>=3.1.0 in /usr/local/lib/python3.10/dist-packages (from scikit-learn>=0.24.0->sklearn-crfsuite) (3.5.0)\n"
          ]
        },
        {
          "output_type": "stream",
          "name": "stderr",
          "text": [
            "/usr/local/lib/python3.10/dist-packages/spacy/util.py:1740: UserWarning: [W111] Jupyter notebook detected: if using `prefer_gpu()` or `require_gpu()`, include it in the same cell right before `spacy.load()` to ensure that the model is loaded on the correct device. More information: http://spacy.io/usage/v3#jupyter-notebook-gpu\n",
            "  warnings.warn(Warnings.W111)\n"
          ]
        }
      ],
      "source": [
        "# Installing and importing relevant libraries\n",
        "!pip install pycrf\n",
        "!pip install sklearn-crfsuite\n",
        "\n",
        "import spacy\n",
        "import sklearn_crfsuite\n",
        "from sklearn_crfsuite import metrics\n",
        "import pandas as pd\n",
        "\n",
        "model = spacy.load(\"en_core_web_sm\")"
      ]
    },
    {
      "cell_type": "markdown",
      "metadata": {
        "id": "kaYACobL7WUm"
      },
      "source": [
        "## Data Preprocessing\n",
        "\n",
        "The dataset provided is in the form of one word per line. Let's understand the format of data below:\n",
        "\n",
        "Suppose there are x words in a sentence, then there will be x continuous lines with one word in each line.\n",
        "Further, the two sentences are separated by empty lines. The labels for the data follow the same format.\n",
        "We need to pre-process the data to recover the complete sentences and their labels.\n",
        "\n",
        "Construct the proper sentences from individual words and print the 5 sentences."
      ]
    },
    {
      "cell_type": "code",
      "execution_count": 5,
      "metadata": {
        "id": "ke3aG1zHTzEz"
      },
      "outputs": [],
      "source": [
        "# Reading the train and test sentences and labels\n",
        "with open('train_sent', 'r') as train_sent_file:\n",
        "  train_words = train_sent_file.readlines()\n",
        "\n",
        "with open('train_label', 'r') as train_labels_file:\n",
        "  train_labels_by_word = train_labels_file.readlines()\n",
        "\n",
        "with open('test_sent', 'r') as test_sent_file:\n",
        "  test_words = test_sent_file.readlines()\n",
        "\n",
        "with open('test_label', 'r') as test_labels_file:\n",
        "  test_labels_by_word = test_labels_file.readlines()"
      ]
    },
    {
      "cell_type": "code",
      "execution_count": 6,
      "metadata": {
        "id": "UH9Uc59-UJJD"
      },
      "outputs": [],
      "source": [
        "def convert_to_sentences(dataset):\n",
        "    sent_list = []\n",
        "    sent = \"\"\n",
        "    for entity in dataset:\n",
        "        if entity != '\\n':\n",
        "            sent = sent + entity[:-1] + \" \"       # Adding word/label to current sentence / sequence of labels\n",
        "        else:\n",
        "            sent_list.append(sent[:-1])           # Getting rid of the space added after the last entity.\n",
        "            sent = \"\"\n",
        "    return sent_list"
      ]
    },
    {
      "cell_type": "code",
      "execution_count": 7,
      "metadata": {
        "id": "9o2jfXP8UOBK"
      },
      "outputs": [],
      "source": [
        "# Converting tokens to sentences and individual labels to sequences of corresponding labels.\n",
        "train_sentences = convert_to_sentences(train_words)\n",
        "train_labels = convert_to_sentences(train_labels_by_word)\n",
        "test_sentences = convert_to_sentences(test_words)\n",
        "test_labels = convert_to_sentences(test_labels_by_word)"
      ]
    },
    {
      "cell_type": "markdown",
      "metadata": {
        "id": "XGbp9kN67WUn"
      },
      "source": [
        "### Five sentences"
      ]
    },
    {
      "cell_type": "code",
      "execution_count": 8,
      "metadata": {
        "id": "tK_3yiVcUQUS",
        "colab": {
          "base_uri": "https://localhost:8080/"
        },
        "outputId": "a3f96f80-68ad-4f30-e60d-62a68c093609"
      },
      "outputs": [
        {
          "output_type": "stream",
          "name": "stdout",
          "text": [
            "First five training sentences and their labels:\n",
            "\n",
            "All live births > or = 23 weeks at the University of Vermont in 1995 ( n = 2395 ) were retrospectively analyzed for delivery route , indication for cesarean , gestational age , parity , and practice group ( to reflect risk status ) \n",
            " O O O O O O O O O O O O O O O O O O O O O O O O O O O O O O O O O O O O O O O O O O O O O \n",
            "\n",
            "The total cesarean rate was 14.4 % ( 344 of 2395 ) , and the primary rate was 11.4 % ( 244 of 2144 ) \n",
            " O O O O O O O O O O O O O O O O O O O O O O O O O \n",
            "\n",
            "Abnormal presentation was the most common indication ( 25.6 % , 88 of 344 ) \n",
            " O O O O O O O O O O O O O O O \n",
            "\n",
            "The `` corrected '' cesarean rate ( maternal-fetal medicine and transported patients excluded ) was 12.4 % ( 273 of 2194 ) , and the `` corrected '' primary rate was 9.6 % ( 190 of 1975 ) \n",
            " O O O O O O O O O O O O O O O O O O O O O O O O O O O O O O O O O O O O O O \n",
            "\n",
            "Arrest of dilation was the most common indication in both `` corrected '' subgroups ( 23.4 and 24.6 % , respectively ) \n",
            " O O O O O O O O O O O O O O O O O O O O O O \n",
            "\n"
          ]
        }
      ],
      "source": [
        "print(\"First five training sentences and their labels:\\n\")\n",
        "for i in range(5):\n",
        "    print(train_sentences[i],\"\\n\",train_labels[i],\"\\n\")"
      ]
    },
    {
      "cell_type": "code",
      "execution_count": 9,
      "metadata": {
        "id": "yIUv9VZeUQby",
        "colab": {
          "base_uri": "https://localhost:8080/"
        },
        "outputId": "416afd4d-de19-4895-b66d-370c2d2da2fb"
      },
      "outputs": [
        {
          "output_type": "stream",
          "name": "stdout",
          "text": [
            "First five test sentences and their labels:\n",
            "\n",
            "Furthermore , when all deliveries were analyzed , regardless of risk status but limited to gestational age > or = 36 weeks , the rates did not change ( 12.6 % , 280 of 2214 ; primary 9.2 % , 183 of 1994 ) \n",
            " O O O O O O O O O O O O O O O O O O O O O O O O O O O O O O O O O O O O O O O O O O O O \n",
            "\n",
            "As the ambient temperature increases , there is an increase in insensible fluid loss and the potential for dehydration \n",
            " O O O O O O O O O O O O O O O O O O O \n",
            "\n",
            "The daily high temperature ranged from 71 to 104 degrees F and AFI values ranged from 1.7 to 24.7 cm during the study period \n",
            " O O O O O O O O O O O O O O O O O O O O O O O O \n",
            "\n",
            "There was a significant correlation between the 2- , 3- , and 4-day mean temperature and AFI , with the 4-day mean being the most significant ( r = 0.31 , p & # 60 ; 0.001 ) \n",
            " O O O O O O O O O O O O O O O O O O O O O O O O O O O O O O O O O O O O O O \n",
            "\n",
            "Fluctuations in ambient temperature are inversely correlated to changes in AFI \n",
            " O O O O O O O O O O O \n",
            "\n"
          ]
        }
      ],
      "source": [
        "print(\"First five test sentences and their labels:\\n\")\n",
        "for i in range(5):\n",
        "    print(test_sentences[i],\"\\n\",test_labels[i],\"\\n\")"
      ]
    },
    {
      "cell_type": "markdown",
      "metadata": {
        "id": "dRec_Qp77WUo"
      },
      "source": [
        "#### Count the number of sentences in the processed train and test dataset"
      ]
    },
    {
      "cell_type": "code",
      "execution_count": 10,
      "metadata": {
        "id": "54ZN-kemUzq7",
        "colab": {
          "base_uri": "https://localhost:8080/"
        },
        "outputId": "d7793a7e-13cc-49ff-f925-577314326770"
      },
      "outputs": [
        {
          "output_type": "stream",
          "name": "stdout",
          "text": [
            "Number of sentences in the train dataset: 2599\n",
            "Number of sentences in the test dataset: 1056\n"
          ]
        }
      ],
      "source": [
        "print(\"Number of sentences in the train dataset: {}\".format(len(train_sentences)))\n",
        "print(\"Number of sentences in the test dataset: {}\".format(len(test_sentences)))"
      ]
    },
    {
      "cell_type": "markdown",
      "metadata": {
        "id": "E8h58kJ87WUo"
      },
      "source": [
        "#### Count the number of lines of labels in the processed train and test dataset."
      ]
    },
    {
      "cell_type": "code",
      "execution_count": 11,
      "metadata": {
        "id": "MO-suV3JU2NS",
        "colab": {
          "base_uri": "https://localhost:8080/"
        },
        "outputId": "37925944-3fb2-45bf-dc83-c6bd2b6a230d"
      },
      "outputs": [
        {
          "output_type": "stream",
          "name": "stdout",
          "text": [
            "Number of lines of labels in the train dataset: 2599\n",
            "Number of lines of labels in the test dataset: 1056\n"
          ]
        }
      ],
      "source": [
        "print(\"Number of lines of labels in the train dataset: {}\".format(len(train_labels)))\n",
        "print(\"Number of lines of labels in the test dataset: {}\".format(len(test_labels)))"
      ]
    },
    {
      "cell_type": "markdown",
      "metadata": {
        "id": "d7urEDpq7WUo"
      },
      "source": [
        "### Concept Identification\n",
        "We will first explore what are the various concepts present in the dataset. For this, we will use PoS Tagging.\n",
        "\n",
        "### Extract those tokens which have NOUN or PROPN as their PoS tag and find their frequency"
      ]
    },
    {
      "cell_type": "code",
      "execution_count": 12,
      "metadata": {
        "id": "zPomP32eU7XS",
        "colab": {
          "base_uri": "https://localhost:8080/"
        },
        "outputId": "a106881d-9448-481c-e4ac-fd783155a8d9"
      },
      "outputs": [
        {
          "output_type": "stream",
          "name": "stdout",
          "text": [
            "Number of sentences in combined dataset (training + test): 3655\n"
          ]
        }
      ],
      "source": [
        "# Creating a combined dataset from training and test sentences, since this is an Exploratory analysis.\n",
        "combined = train_sentences + test_sentences\n",
        "print(\"Number of sentences in combined dataset (training + test): {}\".format(len(combined)))"
      ]
    },
    {
      "cell_type": "code",
      "execution_count": 13,
      "metadata": {
        "colab": {
          "base_uri": "https://localhost:8080/"
        },
        "id": "rV2A_RVwVNCC",
        "outputId": "198c8eb1-546f-4238-accc-a1ce1027fa5b"
      },
      "outputs": [
        {
          "output_type": "stream",
          "name": "stdout",
          "text": [
            "No. of tokens in combined dataset with PoS tag of 'NOUN' or 'PROPN': 24373\n"
          ]
        }
      ],
      "source": [
        "# Creating a list of tokens which have PoS tag of 'NOUN' or 'PROPN'\n",
        "noun_propn = []         # Initiating list for nouns and proper nouns\n",
        "pos_tag = []            # initiating list for corresponding PoS tags.\n",
        "for sent in combined:\n",
        "    for token in model(sent):\n",
        "        if token.pos_ in ['NOUN', 'PROPN']:\n",
        "           noun_propn.append(token.text)\n",
        "           pos_tag.append(token.pos_)\n",
        "print(\"No. of tokens in combined dataset with PoS tag of 'NOUN' or 'PROPN': {}\".format(len(noun_propn)))"
      ]
    },
    {
      "cell_type": "code",
      "execution_count": 14,
      "metadata": {
        "colab": {
          "base_uri": "https://localhost:8080/"
        },
        "id": "PXzsiNciVRUC",
        "outputId": "d98fc2c2-a379-4692-bf08-3d30930b0ddd"
      },
      "outputs": [
        {
          "output_type": "stream",
          "name": "stdout",
          "text": [
            "24373\n"
          ]
        }
      ],
      "source": [
        "print(len(pos_tag))"
      ]
    },
    {
      "cell_type": "markdown",
      "metadata": {
        "id": "kCMpUGY67WUp"
      },
      "source": [
        "### Print the top 25 most common tokens with NOUN or PROPN PoS tags"
      ]
    },
    {
      "cell_type": "code",
      "execution_count": 15,
      "metadata": {
        "colab": {
          "base_uri": "https://localhost:8080/"
        },
        "id": "ZS6rPi7kVSJq",
        "outputId": "88eec0a8-86c5-47c2-9865-5fddbcdd172d"
      },
      "outputs": [
        {
          "output_type": "stream",
          "name": "stdout",
          "text": [
            "Top 25 comon tokens with PoS tag of 'NOUN' or 'PROPN' \n",
            "\n",
            "NOUN_PROPN\n",
            "patients        492\n",
            "treatment       281\n",
            "%               247\n",
            "cancer          200\n",
            "therapy         175\n",
            "study           154\n",
            "disease         142\n",
            "cell            140\n",
            "lung            116\n",
            "group            94\n",
            "chemotherapy     88\n",
            "gene             87\n",
            "effects          85\n",
            "results          79\n",
            "women            77\n",
            "use              74\n",
            "TO_SEE           74\n",
            "risk             71\n",
            "surgery          71\n",
            "cases            71\n",
            "analysis         70\n",
            "rate             67\n",
            "response         66\n",
            "survival         65\n",
            "children         64\n",
            "Name: count, dtype: int64\n"
          ]
        }
      ],
      "source": [
        "noun_pos = pd.DataFrame({\"NOUN_PROPN\":noun_propn,\"POS_tag\":pos_tag})\n",
        "print(\"Top 25 comon tokens with PoS tag of 'NOUN' or 'PROPN' \\n\")\n",
        "print(noun_pos[\"NOUN_PROPN\"].value_counts().head(25))"
      ]
    },
    {
      "cell_type": "markdown",
      "metadata": {
        "id": "CwwDEcv37WUp"
      },
      "source": [
        "## Defining features for CRF"
      ]
    },
    {
      "cell_type": "code",
      "execution_count": 16,
      "metadata": {
        "colab": {
          "base_uri": "https://localhost:8080/"
        },
        "id": "wtCAGeYxVUur",
        "outputId": "57c31a2a-8635-44e0-ec24-cacfef4e783d"
      },
      "outputs": [
        {
          "output_type": "stream",
          "name": "stdout",
          "text": [
            "The total cesarean rate was 14.4 % ( 344 of 2395 ) , and the primary rate was 11.4 % ( 244 of 2144 )\n",
            "\n",
            "PoS tag of word in isolation\n",
            "Word: cesarean -- VERB \n",
            "\n",
            "PoS tag of all words in sentence with context in tact.\n",
            "The -- DET\n",
            "total -- ADJ\n",
            "cesarean -- ADJ\n",
            "rate -- NOUN\n",
            "was -- AUX\n",
            "14.4 -- NUM\n",
            "% -- NOUN\n",
            "( -- PUNCT\n",
            "344 -- NUM\n",
            "of -- ADP\n",
            "2395 -- NUM\n",
            ") -- PUNCT\n",
            ", -- PUNCT\n",
            "and -- CCONJ\n",
            "the -- DET\n",
            "primary -- ADJ\n",
            "rate -- NOUN\n",
            "was -- AUX\n",
            "11.4 -- NUM\n",
            "% -- NOUN\n",
            "( -- PUNCT\n",
            "244 -- NUM\n",
            "of -- ADP\n",
            "2144 -- NUM\n",
            ") -- PUNCT\n",
            "\n",
            "Result of modified workflow to obtain PoS tag of word at a specific position while keeping context within sentence in-tact.\n",
            "Word: cesarean POSTAG: ADJ\n"
          ]
        }
      ],
      "source": [
        "# Analysis of PoS tags - Independent assignment for words vs Contextual assignment in a sentence.\n",
        "sentence = train_sentences[1]\n",
        "sent_list = sentence.split()      # Splitting the sentence into its constituent words.\n",
        "position = 2                      # Choosing position of word within sentence. Index starts at 0.\n",
        "\n",
        "word = sent_list[position]        # Extracting word for PoS tag analysis.\n",
        "\n",
        "print(sentence)\n",
        "\n",
        "# Independent assignment of PoS tag (No contextual info)\n",
        "print(\"\\nPoS tag of word in isolation\\nWord:\",word,\"--\",model(word)[0].pos_,\"\\n\")\n",
        "\n",
        "# Contextual assignment of PoS tag based on other words in the sentence.\n",
        "print(\"PoS tag of all words in sentence with context in tact.\")\n",
        "for token in model(sentence):\n",
        "    print(token.text, \"--\", token.pos_)\n",
        "\n",
        "# Modified workflow to obtain PoS tag of specific word in question while keeping sentence context in tact.\n",
        "print(\"\\nResult of modified workflow to obtain PoS tag of word at a specific position while keeping context within sentence in-tact.\")\n",
        "cnt = 0                           # Count of the word position within sentence.\n",
        "for token in model(sentence):\n",
        "      postag = token.pos_\n",
        "      if (token.text == word) and (cnt == position):\n",
        "          break\n",
        "      cnt += 1\n",
        "print(\"Word:\", word,\"POSTAG:\",postag)"
      ]
    },
    {
      "cell_type": "markdown",
      "metadata": {
        "id": "gEF6FvOB7WUp"
      },
      "source": [
        "As we can see in the analysis above, the PoS tag of the word \"cesarean\" is not captured correctly if the word is considered individually. However, if the word is considered as a part of the sentence, then it is captured correctly. By Defining a function we can execute this."
      ]
    },
    {
      "cell_type": "code",
      "execution_count": 17,
      "metadata": {
        "id": "DVD3TGF7V-7c"
      },
      "outputs": [],
      "source": [
        "# Function to obtain contextual PoS tagger.\n",
        "def contextual_pos_tagger(sent_list,position):\n",
        "    '''Obtaining PoS tag for individual word with sentence context in-tact.\n",
        "       If the PoS tag is obtained for a word individually, it may not capture the context of use in the sentence and may assign the incorrect PoS tag.'''\n",
        "\n",
        "    sentence = \" \".join(sent_list)          # Sentence needs to be in string format to process it with spacy model. List of words won't work.\n",
        "    posit = 0                               # Initialising variable to record position of word in joined sentence to compare with the position of the word under considertion.\n",
        "    for token in model(sentence):\n",
        "        postag = token.pos_\n",
        "        if (token.text == word) and (posit == position):\n",
        "            break\n",
        "        posit += 1\n",
        "    return postag"
      ]
    },
    {
      "cell_type": "code",
      "execution_count": 18,
      "metadata": {
        "id": "a15dsW7QWBq7"
      },
      "outputs": [],
      "source": [
        "# Define the features to get the feature values for one word.\n",
        "def getFeaturesForOneWord(sent_list, position):\n",
        "  word = sent_list[position]\n",
        "\n",
        "  # Obtaining features for current word\n",
        "  features = [\n",
        "    'word.lower=' + word.lower(),                                   # serves as word id\n",
        "    'word.postag=' + contextual_pos_tagger(sent_list, position),    # PoS tag of current word\n",
        "    'word[-3:]=' + word[-3:],                                       # last three characters\n",
        "    'word[-2:]=' + word[-2:],                                       # last two characters\n",
        "    'word.isupper=%s' % word.isupper(),                             # is the word in all uppercase\n",
        "    'word.isdigit=%s' % word.isdigit(),                             # is the word a number\n",
        "    'words.startsWithCapital=%s' % word[0].isupper()                # is the word starting with a capital letter\n",
        "  ]\n",
        "\n",
        "  if(position > 0):\n",
        "    prev_word = sent_list[position-1]\n",
        "    features.extend([\n",
        "    'prev_word.lower=' + prev_word.lower(),                               # previous word\n",
        "    'prev_word.postag=' + contextual_pos_tagger(sent_list, position - 1), # PoS tag of previous word\n",
        "    'prev_word.isupper=%s' % prev_word.isupper(),                         # is the previous word in all uppercase\n",
        "    'prev_word.isdigit=%s' % prev_word.isdigit(),                         # is the previous word a number\n",
        "    'prev_words.startsWithCapital=%s' % prev_word[0].isupper()            # is the previous word starting with a capital letter\n",
        "  ])\n",
        "  else:\n",
        "    features.append('BEG')                                                # feature to track begin of sentence\n",
        "\n",
        "  if(position == len(sent_list)-1):\n",
        "    features.append('END')                                                # feature to track end of sentence\n",
        "\n",
        "  return features"
      ]
    },
    {
      "cell_type": "markdown",
      "metadata": {
        "id": "Fyv-DQmc7WUq"
      },
      "source": [
        "## Getting the features\n"
      ]
    },
    {
      "cell_type": "code",
      "execution_count": 19,
      "metadata": {
        "id": "GDi-ml4KWEGj"
      },
      "outputs": [],
      "source": [
        "# Write a code to get features for a sentence.\n",
        "def getFeaturesForOneSentence(sentence):\n",
        "  sentence_list = sentence.split()\n",
        "  return [getFeaturesForOneWord(sentence_list, position) for position in range(len(sentence_list))]"
      ]
    },
    {
      "cell_type": "code",
      "execution_count": 20,
      "metadata": {
        "colab": {
          "base_uri": "https://localhost:8080/"
        },
        "id": "r05t3SYYWGLi",
        "outputId": "e1cb59c0-f44b-4d16-e746-491945389378"
      },
      "outputs": [
        {
          "output_type": "stream",
          "name": "stdout",
          "text": [
            "Cesarean rates at tertiary care hospitals should be compared with rates at community hospitals only after correcting for dissimilar patient groups or gestational age\n"
          ]
        },
        {
          "output_type": "execute_result",
          "data": {
            "text/plain": [
              "['word.lower=cesarean',\n",
              " 'word.postag=NOUN',\n",
              " 'word[-3:]=ean',\n",
              " 'word[-2:]=an',\n",
              " 'word.isupper=False',\n",
              " 'word.isdigit=False',\n",
              " 'words.startsWithCapital=True',\n",
              " 'BEG']"
            ]
          },
          "metadata": {},
          "execution_count": 20
        }
      ],
      "source": [
        "# Checking feature extraction\n",
        "example_sentence = train_sentences[5]\n",
        "print(example_sentence)\n",
        "\n",
        "features = getFeaturesForOneSentence(example_sentence)\n",
        "features[0]"
      ]
    },
    {
      "cell_type": "code",
      "execution_count": 21,
      "metadata": {
        "colab": {
          "base_uri": "https://localhost:8080/"
        },
        "id": "XA_rTIukWJJD",
        "outputId": "86d693fc-791b-482c-de49-bda3dc30849b"
      },
      "outputs": [
        {
          "output_type": "execute_result",
          "data": {
            "text/plain": [
              "['word.lower=care',\n",
              " 'word.postag=NOUN',\n",
              " 'word[-3:]=are',\n",
              " 'word[-2:]=re',\n",
              " 'word.isupper=False',\n",
              " 'word.isdigit=False',\n",
              " 'words.startsWithCapital=False',\n",
              " 'prev_word.lower=tertiary',\n",
              " 'prev_word.postag=NOUN',\n",
              " 'prev_word.isupper=False',\n",
              " 'prev_word.isdigit=False',\n",
              " 'prev_words.startsWithCapital=False']"
            ]
          },
          "metadata": {},
          "execution_count": 21
        }
      ],
      "source": [
        "features[4]"
      ]
    },
    {
      "cell_type": "markdown",
      "metadata": {
        "id": "ZEcyFl9A7WUq"
      },
      "source": [
        "## Write a code/function to get the labels of a sentence"
      ]
    },
    {
      "cell_type": "code",
      "execution_count": 22,
      "metadata": {
        "id": "V4ddFpEfWYxD"
      },
      "outputs": [],
      "source": [
        "# Write a code to get the labels for a sentence.\n",
        "def getLabelsInListForOneSentence(labels):\n",
        "  return labels.split()"
      ]
    },
    {
      "cell_type": "code",
      "execution_count": 23,
      "metadata": {
        "colab": {
          "base_uri": "https://localhost:8080/"
        },
        "id": "QJNOJbAKWcSj",
        "outputId": "d2351fe3-0d8a-43e2-ba12-a067f16e9864"
      },
      "outputs": [
        {
          "output_type": "stream",
          "name": "stdout",
          "text": [
            "['O', 'O', 'O', 'O', 'O', 'O', 'O', 'O', 'O', 'O', 'O', 'O', 'O', 'O', 'O', 'O', 'O', 'O', 'O', 'O', 'O', 'O', 'O', 'O']\n"
          ]
        }
      ],
      "source": [
        "# Checking label extraction\n",
        "example_labels = getLabelsInListForOneSentence(train_labels[5])\n",
        "print(example_labels)"
      ]
    },
    {
      "cell_type": "markdown",
      "metadata": {
        "id": "RDwQ-y8E7WUq"
      },
      "source": [
        "## Define input and target variables\n",
        "\n",
        "## Define the features' values for each sentence as input variable for CRF model in test and the train dataset"
      ]
    },
    {
      "cell_type": "code",
      "execution_count": 24,
      "metadata": {
        "id": "3IEhI9DAWeqi"
      },
      "outputs": [],
      "source": [
        "X_train = [getFeaturesForOneSentence(sentence) for sentence in train_sentences]\n",
        "X_test = [getFeaturesForOneSentence(sentence) for sentence in test_sentences]"
      ]
    },
    {
      "cell_type": "markdown",
      "metadata": {
        "id": "kf5PbTbp7WUq"
      },
      "source": [
        "## Define the labels as the target variable for test and the train dataset"
      ]
    },
    {
      "cell_type": "code",
      "execution_count": 25,
      "metadata": {
        "id": "lCZK6bZUWhhs"
      },
      "outputs": [],
      "source": [
        "Y_train = [getLabelsInListForOneSentence(labels) for labels in train_labels]\n",
        "Y_test = [getLabelsInListForOneSentence(labels) for labels in test_labels]"
      ]
    },
    {
      "cell_type": "code",
      "execution_count": 27,
      "metadata": {
        "colab": {
          "base_uri": "https://localhost:8080/"
        },
        "id": "Jagn5nqogpeu",
        "outputId": "2b15e695-cd8a-4ef9-91bb-019a1ddc112c"
      },
      "outputs": [
        {
          "output_type": "stream",
          "name": "stdout",
          "text": [
            "Requirement already satisfied: scikit-learn in /usr/local/lib/python3.10/dist-packages (1.5.2)\n",
            "Requirement already satisfied: numpy>=1.19.5 in /usr/local/lib/python3.10/dist-packages (from scikit-learn) (1.26.4)\n",
            "Requirement already satisfied: scipy>=1.6.0 in /usr/local/lib/python3.10/dist-packages (from scikit-learn) (1.13.1)\n",
            "Requirement already satisfied: joblib>=1.2.0 in /usr/local/lib/python3.10/dist-packages (from scikit-learn) (1.4.2)\n",
            "Requirement already satisfied: threadpoolctl>=3.1.0 in /usr/local/lib/python3.10/dist-packages (from scikit-learn) (3.5.0)\n"
          ]
        }
      ],
      "source": [
        "!pip install scikit-learn"
      ]
    },
    {
      "cell_type": "markdown",
      "metadata": {
        "id": "BMAMwMDD7WUv"
      },
      "source": [
        "# Build the CRF Model"
      ]
    },
    {
      "cell_type": "code",
      "execution_count": 28,
      "metadata": {
        "colab": {
          "base_uri": "https://localhost:8080/",
          "height": 80
        },
        "id": "ETix8Ci8WjmK",
        "outputId": "d4e0411c-9476-45d1-e946-5e8f3abc0935"
      },
      "outputs": [
        {
          "output_type": "execute_result",
          "data": {
            "text/plain": [
              "CRF(max_iterations=300)"
            ],
            "text/html": [
              "<style>#sk-container-id-1 {\n",
              "  /* Definition of color scheme common for light and dark mode */\n",
              "  --sklearn-color-text: black;\n",
              "  --sklearn-color-line: gray;\n",
              "  /* Definition of color scheme for unfitted estimators */\n",
              "  --sklearn-color-unfitted-level-0: #fff5e6;\n",
              "  --sklearn-color-unfitted-level-1: #f6e4d2;\n",
              "  --sklearn-color-unfitted-level-2: #ffe0b3;\n",
              "  --sklearn-color-unfitted-level-3: chocolate;\n",
              "  /* Definition of color scheme for fitted estimators */\n",
              "  --sklearn-color-fitted-level-0: #f0f8ff;\n",
              "  --sklearn-color-fitted-level-1: #d4ebff;\n",
              "  --sklearn-color-fitted-level-2: #b3dbfd;\n",
              "  --sklearn-color-fitted-level-3: cornflowerblue;\n",
              "\n",
              "  /* Specific color for light theme */\n",
              "  --sklearn-color-text-on-default-background: var(--sg-text-color, var(--theme-code-foreground, var(--jp-content-font-color1, black)));\n",
              "  --sklearn-color-background: var(--sg-background-color, var(--theme-background, var(--jp-layout-color0, white)));\n",
              "  --sklearn-color-border-box: var(--sg-text-color, var(--theme-code-foreground, var(--jp-content-font-color1, black)));\n",
              "  --sklearn-color-icon: #696969;\n",
              "\n",
              "  @media (prefers-color-scheme: dark) {\n",
              "    /* Redefinition of color scheme for dark theme */\n",
              "    --sklearn-color-text-on-default-background: var(--sg-text-color, var(--theme-code-foreground, var(--jp-content-font-color1, white)));\n",
              "    --sklearn-color-background: var(--sg-background-color, var(--theme-background, var(--jp-layout-color0, #111)));\n",
              "    --sklearn-color-border-box: var(--sg-text-color, var(--theme-code-foreground, var(--jp-content-font-color1, white)));\n",
              "    --sklearn-color-icon: #878787;\n",
              "  }\n",
              "}\n",
              "\n",
              "#sk-container-id-1 {\n",
              "  color: var(--sklearn-color-text);\n",
              "}\n",
              "\n",
              "#sk-container-id-1 pre {\n",
              "  padding: 0;\n",
              "}\n",
              "\n",
              "#sk-container-id-1 input.sk-hidden--visually {\n",
              "  border: 0;\n",
              "  clip: rect(1px 1px 1px 1px);\n",
              "  clip: rect(1px, 1px, 1px, 1px);\n",
              "  height: 1px;\n",
              "  margin: -1px;\n",
              "  overflow: hidden;\n",
              "  padding: 0;\n",
              "  position: absolute;\n",
              "  width: 1px;\n",
              "}\n",
              "\n",
              "#sk-container-id-1 div.sk-dashed-wrapped {\n",
              "  border: 1px dashed var(--sklearn-color-line);\n",
              "  margin: 0 0.4em 0.5em 0.4em;\n",
              "  box-sizing: border-box;\n",
              "  padding-bottom: 0.4em;\n",
              "  background-color: var(--sklearn-color-background);\n",
              "}\n",
              "\n",
              "#sk-container-id-1 div.sk-container {\n",
              "  /* jupyter's `normalize.less` sets `[hidden] { display: none; }`\n",
              "     but bootstrap.min.css set `[hidden] { display: none !important; }`\n",
              "     so we also need the `!important` here to be able to override the\n",
              "     default hidden behavior on the sphinx rendered scikit-learn.org.\n",
              "     See: https://github.com/scikit-learn/scikit-learn/issues/21755 */\n",
              "  display: inline-block !important;\n",
              "  position: relative;\n",
              "}\n",
              "\n",
              "#sk-container-id-1 div.sk-text-repr-fallback {\n",
              "  display: none;\n",
              "}\n",
              "\n",
              "div.sk-parallel-item,\n",
              "div.sk-serial,\n",
              "div.sk-item {\n",
              "  /* draw centered vertical line to link estimators */\n",
              "  background-image: linear-gradient(var(--sklearn-color-text-on-default-background), var(--sklearn-color-text-on-default-background));\n",
              "  background-size: 2px 100%;\n",
              "  background-repeat: no-repeat;\n",
              "  background-position: center center;\n",
              "}\n",
              "\n",
              "/* Parallel-specific style estimator block */\n",
              "\n",
              "#sk-container-id-1 div.sk-parallel-item::after {\n",
              "  content: \"\";\n",
              "  width: 100%;\n",
              "  border-bottom: 2px solid var(--sklearn-color-text-on-default-background);\n",
              "  flex-grow: 1;\n",
              "}\n",
              "\n",
              "#sk-container-id-1 div.sk-parallel {\n",
              "  display: flex;\n",
              "  align-items: stretch;\n",
              "  justify-content: center;\n",
              "  background-color: var(--sklearn-color-background);\n",
              "  position: relative;\n",
              "}\n",
              "\n",
              "#sk-container-id-1 div.sk-parallel-item {\n",
              "  display: flex;\n",
              "  flex-direction: column;\n",
              "}\n",
              "\n",
              "#sk-container-id-1 div.sk-parallel-item:first-child::after {\n",
              "  align-self: flex-end;\n",
              "  width: 50%;\n",
              "}\n",
              "\n",
              "#sk-container-id-1 div.sk-parallel-item:last-child::after {\n",
              "  align-self: flex-start;\n",
              "  width: 50%;\n",
              "}\n",
              "\n",
              "#sk-container-id-1 div.sk-parallel-item:only-child::after {\n",
              "  width: 0;\n",
              "}\n",
              "\n",
              "/* Serial-specific style estimator block */\n",
              "\n",
              "#sk-container-id-1 div.sk-serial {\n",
              "  display: flex;\n",
              "  flex-direction: column;\n",
              "  align-items: center;\n",
              "  background-color: var(--sklearn-color-background);\n",
              "  padding-right: 1em;\n",
              "  padding-left: 1em;\n",
              "}\n",
              "\n",
              "\n",
              "/* Toggleable style: style used for estimator/Pipeline/ColumnTransformer box that is\n",
              "clickable and can be expanded/collapsed.\n",
              "- Pipeline and ColumnTransformer use this feature and define the default style\n",
              "- Estimators will overwrite some part of the style using the `sk-estimator` class\n",
              "*/\n",
              "\n",
              "/* Pipeline and ColumnTransformer style (default) */\n",
              "\n",
              "#sk-container-id-1 div.sk-toggleable {\n",
              "  /* Default theme specific background. It is overwritten whether we have a\n",
              "  specific estimator or a Pipeline/ColumnTransformer */\n",
              "  background-color: var(--sklearn-color-background);\n",
              "}\n",
              "\n",
              "/* Toggleable label */\n",
              "#sk-container-id-1 label.sk-toggleable__label {\n",
              "  cursor: pointer;\n",
              "  display: block;\n",
              "  width: 100%;\n",
              "  margin-bottom: 0;\n",
              "  padding: 0.5em;\n",
              "  box-sizing: border-box;\n",
              "  text-align: center;\n",
              "}\n",
              "\n",
              "#sk-container-id-1 label.sk-toggleable__label-arrow:before {\n",
              "  /* Arrow on the left of the label */\n",
              "  content: \"▸\";\n",
              "  float: left;\n",
              "  margin-right: 0.25em;\n",
              "  color: var(--sklearn-color-icon);\n",
              "}\n",
              "\n",
              "#sk-container-id-1 label.sk-toggleable__label-arrow:hover:before {\n",
              "  color: var(--sklearn-color-text);\n",
              "}\n",
              "\n",
              "/* Toggleable content - dropdown */\n",
              "\n",
              "#sk-container-id-1 div.sk-toggleable__content {\n",
              "  max-height: 0;\n",
              "  max-width: 0;\n",
              "  overflow: hidden;\n",
              "  text-align: left;\n",
              "  /* unfitted */\n",
              "  background-color: var(--sklearn-color-unfitted-level-0);\n",
              "}\n",
              "\n",
              "#sk-container-id-1 div.sk-toggleable__content.fitted {\n",
              "  /* fitted */\n",
              "  background-color: var(--sklearn-color-fitted-level-0);\n",
              "}\n",
              "\n",
              "#sk-container-id-1 div.sk-toggleable__content pre {\n",
              "  margin: 0.2em;\n",
              "  border-radius: 0.25em;\n",
              "  color: var(--sklearn-color-text);\n",
              "  /* unfitted */\n",
              "  background-color: var(--sklearn-color-unfitted-level-0);\n",
              "}\n",
              "\n",
              "#sk-container-id-1 div.sk-toggleable__content.fitted pre {\n",
              "  /* unfitted */\n",
              "  background-color: var(--sklearn-color-fitted-level-0);\n",
              "}\n",
              "\n",
              "#sk-container-id-1 input.sk-toggleable__control:checked~div.sk-toggleable__content {\n",
              "  /* Expand drop-down */\n",
              "  max-height: 200px;\n",
              "  max-width: 100%;\n",
              "  overflow: auto;\n",
              "}\n",
              "\n",
              "#sk-container-id-1 input.sk-toggleable__control:checked~label.sk-toggleable__label-arrow:before {\n",
              "  content: \"▾\";\n",
              "}\n",
              "\n",
              "/* Pipeline/ColumnTransformer-specific style */\n",
              "\n",
              "#sk-container-id-1 div.sk-label input.sk-toggleable__control:checked~label.sk-toggleable__label {\n",
              "  color: var(--sklearn-color-text);\n",
              "  background-color: var(--sklearn-color-unfitted-level-2);\n",
              "}\n",
              "\n",
              "#sk-container-id-1 div.sk-label.fitted input.sk-toggleable__control:checked~label.sk-toggleable__label {\n",
              "  background-color: var(--sklearn-color-fitted-level-2);\n",
              "}\n",
              "\n",
              "/* Estimator-specific style */\n",
              "\n",
              "/* Colorize estimator box */\n",
              "#sk-container-id-1 div.sk-estimator input.sk-toggleable__control:checked~label.sk-toggleable__label {\n",
              "  /* unfitted */\n",
              "  background-color: var(--sklearn-color-unfitted-level-2);\n",
              "}\n",
              "\n",
              "#sk-container-id-1 div.sk-estimator.fitted input.sk-toggleable__control:checked~label.sk-toggleable__label {\n",
              "  /* fitted */\n",
              "  background-color: var(--sklearn-color-fitted-level-2);\n",
              "}\n",
              "\n",
              "#sk-container-id-1 div.sk-label label.sk-toggleable__label,\n",
              "#sk-container-id-1 div.sk-label label {\n",
              "  /* The background is the default theme color */\n",
              "  color: var(--sklearn-color-text-on-default-background);\n",
              "}\n",
              "\n",
              "/* On hover, darken the color of the background */\n",
              "#sk-container-id-1 div.sk-label:hover label.sk-toggleable__label {\n",
              "  color: var(--sklearn-color-text);\n",
              "  background-color: var(--sklearn-color-unfitted-level-2);\n",
              "}\n",
              "\n",
              "/* Label box, darken color on hover, fitted */\n",
              "#sk-container-id-1 div.sk-label.fitted:hover label.sk-toggleable__label.fitted {\n",
              "  color: var(--sklearn-color-text);\n",
              "  background-color: var(--sklearn-color-fitted-level-2);\n",
              "}\n",
              "\n",
              "/* Estimator label */\n",
              "\n",
              "#sk-container-id-1 div.sk-label label {\n",
              "  font-family: monospace;\n",
              "  font-weight: bold;\n",
              "  display: inline-block;\n",
              "  line-height: 1.2em;\n",
              "}\n",
              "\n",
              "#sk-container-id-1 div.sk-label-container {\n",
              "  text-align: center;\n",
              "}\n",
              "\n",
              "/* Estimator-specific */\n",
              "#sk-container-id-1 div.sk-estimator {\n",
              "  font-family: monospace;\n",
              "  border: 1px dotted var(--sklearn-color-border-box);\n",
              "  border-radius: 0.25em;\n",
              "  box-sizing: border-box;\n",
              "  margin-bottom: 0.5em;\n",
              "  /* unfitted */\n",
              "  background-color: var(--sklearn-color-unfitted-level-0);\n",
              "}\n",
              "\n",
              "#sk-container-id-1 div.sk-estimator.fitted {\n",
              "  /* fitted */\n",
              "  background-color: var(--sklearn-color-fitted-level-0);\n",
              "}\n",
              "\n",
              "/* on hover */\n",
              "#sk-container-id-1 div.sk-estimator:hover {\n",
              "  /* unfitted */\n",
              "  background-color: var(--sklearn-color-unfitted-level-2);\n",
              "}\n",
              "\n",
              "#sk-container-id-1 div.sk-estimator.fitted:hover {\n",
              "  /* fitted */\n",
              "  background-color: var(--sklearn-color-fitted-level-2);\n",
              "}\n",
              "\n",
              "/* Specification for estimator info (e.g. \"i\" and \"?\") */\n",
              "\n",
              "/* Common style for \"i\" and \"?\" */\n",
              "\n",
              ".sk-estimator-doc-link,\n",
              "a:link.sk-estimator-doc-link,\n",
              "a:visited.sk-estimator-doc-link {\n",
              "  float: right;\n",
              "  font-size: smaller;\n",
              "  line-height: 1em;\n",
              "  font-family: monospace;\n",
              "  background-color: var(--sklearn-color-background);\n",
              "  border-radius: 1em;\n",
              "  height: 1em;\n",
              "  width: 1em;\n",
              "  text-decoration: none !important;\n",
              "  margin-left: 1ex;\n",
              "  /* unfitted */\n",
              "  border: var(--sklearn-color-unfitted-level-1) 1pt solid;\n",
              "  color: var(--sklearn-color-unfitted-level-1);\n",
              "}\n",
              "\n",
              ".sk-estimator-doc-link.fitted,\n",
              "a:link.sk-estimator-doc-link.fitted,\n",
              "a:visited.sk-estimator-doc-link.fitted {\n",
              "  /* fitted */\n",
              "  border: var(--sklearn-color-fitted-level-1) 1pt solid;\n",
              "  color: var(--sklearn-color-fitted-level-1);\n",
              "}\n",
              "\n",
              "/* On hover */\n",
              "div.sk-estimator:hover .sk-estimator-doc-link:hover,\n",
              ".sk-estimator-doc-link:hover,\n",
              "div.sk-label-container:hover .sk-estimator-doc-link:hover,\n",
              ".sk-estimator-doc-link:hover {\n",
              "  /* unfitted */\n",
              "  background-color: var(--sklearn-color-unfitted-level-3);\n",
              "  color: var(--sklearn-color-background);\n",
              "  text-decoration: none;\n",
              "}\n",
              "\n",
              "div.sk-estimator.fitted:hover .sk-estimator-doc-link.fitted:hover,\n",
              ".sk-estimator-doc-link.fitted:hover,\n",
              "div.sk-label-container:hover .sk-estimator-doc-link.fitted:hover,\n",
              ".sk-estimator-doc-link.fitted:hover {\n",
              "  /* fitted */\n",
              "  background-color: var(--sklearn-color-fitted-level-3);\n",
              "  color: var(--sklearn-color-background);\n",
              "  text-decoration: none;\n",
              "}\n",
              "\n",
              "/* Span, style for the box shown on hovering the info icon */\n",
              ".sk-estimator-doc-link span {\n",
              "  display: none;\n",
              "  z-index: 9999;\n",
              "  position: relative;\n",
              "  font-weight: normal;\n",
              "  right: .2ex;\n",
              "  padding: .5ex;\n",
              "  margin: .5ex;\n",
              "  width: min-content;\n",
              "  min-width: 20ex;\n",
              "  max-width: 50ex;\n",
              "  color: var(--sklearn-color-text);\n",
              "  box-shadow: 2pt 2pt 4pt #999;\n",
              "  /* unfitted */\n",
              "  background: var(--sklearn-color-unfitted-level-0);\n",
              "  border: .5pt solid var(--sklearn-color-unfitted-level-3);\n",
              "}\n",
              "\n",
              ".sk-estimator-doc-link.fitted span {\n",
              "  /* fitted */\n",
              "  background: var(--sklearn-color-fitted-level-0);\n",
              "  border: var(--sklearn-color-fitted-level-3);\n",
              "}\n",
              "\n",
              ".sk-estimator-doc-link:hover span {\n",
              "  display: block;\n",
              "}\n",
              "\n",
              "/* \"?\"-specific style due to the `<a>` HTML tag */\n",
              "\n",
              "#sk-container-id-1 a.estimator_doc_link {\n",
              "  float: right;\n",
              "  font-size: 1rem;\n",
              "  line-height: 1em;\n",
              "  font-family: monospace;\n",
              "  background-color: var(--sklearn-color-background);\n",
              "  border-radius: 1rem;\n",
              "  height: 1rem;\n",
              "  width: 1rem;\n",
              "  text-decoration: none;\n",
              "  /* unfitted */\n",
              "  color: var(--sklearn-color-unfitted-level-1);\n",
              "  border: var(--sklearn-color-unfitted-level-1) 1pt solid;\n",
              "}\n",
              "\n",
              "#sk-container-id-1 a.estimator_doc_link.fitted {\n",
              "  /* fitted */\n",
              "  border: var(--sklearn-color-fitted-level-1) 1pt solid;\n",
              "  color: var(--sklearn-color-fitted-level-1);\n",
              "}\n",
              "\n",
              "/* On hover */\n",
              "#sk-container-id-1 a.estimator_doc_link:hover {\n",
              "  /* unfitted */\n",
              "  background-color: var(--sklearn-color-unfitted-level-3);\n",
              "  color: var(--sklearn-color-background);\n",
              "  text-decoration: none;\n",
              "}\n",
              "\n",
              "#sk-container-id-1 a.estimator_doc_link.fitted:hover {\n",
              "  /* fitted */\n",
              "  background-color: var(--sklearn-color-fitted-level-3);\n",
              "}\n",
              "</style><div id=\"sk-container-id-1\" class=\"sk-top-container\"><div class=\"sk-text-repr-fallback\"><pre>CRF(max_iterations=300)</pre><b>In a Jupyter environment, please rerun this cell to show the HTML representation or trust the notebook. <br />On GitHub, the HTML representation is unable to render, please try loading this page with nbviewer.org.</b></div><div class=\"sk-container\" hidden><div class=\"sk-item\"><div class=\"sk-estimator fitted sk-toggleable\"><input class=\"sk-toggleable__control sk-hidden--visually\" id=\"sk-estimator-id-1\" type=\"checkbox\" checked><label for=\"sk-estimator-id-1\" class=\"sk-toggleable__label fitted sk-toggleable__label-arrow fitted\">&nbsp;CRF<span class=\"sk-estimator-doc-link fitted\">i<span>Fitted</span></span></label><div class=\"sk-toggleable__content fitted\"><pre>CRF(max_iterations=300)</pre></div> </div></div></div></div>"
            ]
          },
          "metadata": {},
          "execution_count": 28
        }
      ],
      "source": [
        "# Building the CRF model. Using max_iterations as 200.\n",
        "crf = sklearn_crfsuite.CRF(max_iterations=300)\n",
        "\n",
        "crf.fit(X_train, Y_train)"
      ]
    },
    {
      "cell_type": "markdown",
      "metadata": {
        "id": "kfcTnThH7WUv"
      },
      "source": [
        "## Evaluation\n",
        "Predict the labels of each of the tokens in each sentence of the test dataset that has been pre processed earlier."
      ]
    },
    {
      "cell_type": "code",
      "execution_count": 29,
      "metadata": {
        "id": "ksSTFzJeWmS8"
      },
      "outputs": [],
      "source": [
        "Y_pred = crf.predict(X_test)"
      ]
    },
    {
      "cell_type": "markdown",
      "metadata": {
        "id": "SeOy89Dj7WUv"
      },
      "source": [
        "## Calculate the f1 score using the actual labels and the predicted labels of the test dataset"
      ]
    },
    {
      "cell_type": "code",
      "execution_count": 30,
      "metadata": {
        "colab": {
          "base_uri": "https://localhost:8080/"
        },
        "id": "UTW6y0MRWo4b",
        "outputId": "37c4ce37-9a75-4b4e-ad36-756d6260587c"
      },
      "outputs": [
        {
          "output_type": "execute_result",
          "data": {
            "text/plain": [
              "0.9085937579006657"
            ]
          },
          "metadata": {},
          "execution_count": 30
        }
      ],
      "source": [
        "metrics.flat_f1_score(Y_test, Y_pred, average='weighted')"
      ]
    },
    {
      "cell_type": "markdown",
      "metadata": {
        "id": "JHusuIr77WUw"
      },
      "source": [
        "## Identifying Diseases and Treatments using Custom NER\n",
        "We now use the CRF model's prediction to prepare a record of diseases identified in the corpus and treatments used for the diseases.\n",
        "\n",
        "Creating the logic to get all the predicted treatments (T) labels corresponding to each disease (D) label in the test dataset."
      ]
    },
    {
      "cell_type": "code",
      "execution_count": 31,
      "metadata": {
        "id": "FqfTA68SXdXe"
      },
      "outputs": [],
      "source": [
        "# Extracting a dictionary of all the predicted diseases from our test data and the corresponding treatments.\n",
        "# Assumption: For each identified disease, one of the treatments is in the same sentence as the disease exists.\n",
        "disease_treatment = {}            # Initializing an empty dictionary\n",
        "for i in range(len(Y_pred)):\n",
        "    cnt_disease = 0           # Count of number of diseases mentioned in the sentence\n",
        "    cnt_treatment = 0         # Count of the number of treatments mentioned in the sentence\n",
        "    diseases = [\"\"]           # Initializing a blank list of diseases for current sentence.\n",
        "    treatment = [\"\"]          # Initializing a blank list of treatments for current sentence.\n",
        "    length = len(Y_pred[i])   # Length of current sentence.\n",
        "    for j in range(length):\n",
        "        if (Y_pred[i][j] == 'D'):                                                     # Checking for label indicating disease for current word ('D')\n",
        "            diseases[cnt_disease] += (X_test[i][j][0].split('=')[1] + \" \")            # Adding word to diseases list.\n",
        "            if j < length - 1:\n",
        "                if (Y_pred[i][j+1] != 'D'):                                           # Check for name of disease extending over multiple words.\n",
        "                    # If next word does not have label 'D', then truncate the space added at the end of the last word.\n",
        "                    diseases[cnt_disease] = diseases[cnt_disease][:-1]\n",
        "                    cnt_disease += 1\n",
        "                    diseases.append(\"\")                                               # Adding a placeholder for the next disease in the current sentence.\n",
        "            else:\n",
        "                diseases[cnt_disease] = diseases[cnt_disease][:-1]\n",
        "                cnt_disease += 1\n",
        "                diseases.append(\"\")\n",
        "\n",
        "        if (Y_pred[i][j] == 'T'):                                                     # Checking for label indicating treatment for current word ('T')\n",
        "            treatment[cnt_treatment] += (X_test[i][j][0].split('=')[1] + \" \") # Adding word to corresponding treatment list.\n",
        "            if j < length - 1:\n",
        "                if (Y_pred[i][j+1] != 'T'):                                           # Check for name of treatment extending over multiple words.\n",
        "                    # If next word does not have label 'T', then truncate the space added at the end of the last word.\n",
        "                    treatment[cnt_treatment] = treatment[cnt_treatment][:-1]\n",
        "                    cnt_treatment += 1\n",
        "                    treatment.append(\"\")                                              # Adding a placeholder for the next treatment in the current sentence.\n",
        "            else:\n",
        "                treatment[cnt_treatment] = treatment[cnt_treatment][:-1]\n",
        "                cnt_treatment += 1\n",
        "                treatment.append(\"\")\n",
        "\n",
        "    diseases.pop(-1)    # Getting rid of the last empty placeholder in diseases list\n",
        "    treatment.pop(-1)   # Getting rid of the last empty placeholder in treatments list\n",
        "\n",
        "    # To our dictionary, add or append treatments to the diseases identified from the current sentence, if any.\n",
        "    if len(diseases) > 0:       # Checking if any diseases have been identified for the current sentence.\n",
        "        for disease in diseases:\n",
        "            if disease in disease_treatment.keys():\n",
        "                # Extend treatment list if other treatments for the particular disease already exist\n",
        "                disease_treatment[disease].extend(treatment)\n",
        "            else:\n",
        "                # Creating list of treatments for particular disease if it doesn not exist already.\n",
        "                disease_treatment[disease] = treatment"
      ]
    },
    {
      "cell_type": "code",
      "execution_count": 32,
      "metadata": {
        "colab": {
          "base_uri": "https://localhost:8080/"
        },
        "id": "TgCVmRn6Xje7",
        "scrolled": false,
        "outputId": "80eb3ee0-c08f-4269-9c44-a1463a548c75"
      },
      "outputs": [
        {
          "output_type": "execute_result",
          "data": {
            "text/plain": [
              "{'breast cancer': ['hormone replacement therapy',\n",
              "  'undergone subcutaneous mastectomy'],\n",
              " 'ovarian cancer': ['hormone replacement therapy',\n",
              "  'undergone subcutaneous mastectomy'],\n",
              " 'prostate cancer': ['radical prostatectomy and iodine 125 interstitial radiotherapy'],\n",
              " 'mutated prostate cancer': ['radical prostatectomy and iodine 125 interstitial radiotherapy'],\n",
              " 'hereditary retinoblastoma': ['radiotherapy'],\n",
              " 'unstable angina or non-q-wave myocardial infarction': ['roxithromycin'],\n",
              " 'coronary-artery disease': ['antichlamydial antibiotics'],\n",
              " 'cerebral palsy': ['hyperbaric oxygen therapy'],\n",
              " 'primary pulmonary hypertension ( pph )': ['fenfluramines'],\n",
              " 'cellulitis': ['g-csf therapy', 'intravenous antibiotic treatment'],\n",
              " 'foot infection': ['g-csf treatment'],\n",
              " \"early parkinson 's disease\": ['ropinirole monotherapy'],\n",
              " 'sore throat': ['antibiotics'],\n",
              " 'female stress urinary incontinence': ['surgical treatment'],\n",
              " 'stress urinary incontinence': ['therapy'],\n",
              " 'preeclampsia ( proteinuric hypertension )': ['intrauterine insemination with donor sperm versus intrauterine insemination'],\n",
              " 'severe acquired hyperammonemia': ['organ transplantation and chemotherapy',\n",
              "  'matrix metalloproteinase inhibitors'],\n",
              " 'cancer': ['organ transplantation and chemotherapy',\n",
              "  'matrix metalloproteinase inhibitors'],\n",
              " 'major pulmonary embolism': ['thrombolytic treatment'],\n",
              " 'malignant pleural mesothelioma': ['thoracotomy , radiotherapy , and chemotherapy'],\n",
              " 'pulmonary symptoms attributable': ['chemotherapy'],\n",
              " 'non-obstructive azoospermia': ['testicular sperm retrieval by testicular fine needle aspiration ( tefna )',\n",
              "  'open biopsy and testicular sperm extraction ( tese )'],\n",
              " 'colorectal cancer': ['elective surgery',\n",
              "  'docosahexanoic acid ( dha ) -concentrated fish oil'],\n",
              " 'gastrointestinal tumours': ['elective surgery'],\n",
              " 'bronchial asthma': ['non-steroidal anti-inflammatory therapy'],\n",
              " 'multiple sclerosis': ['interferon beta treatment',\n",
              "  'intravenous immunoglobulin treatment'],\n",
              " \"parkinson 's disease\": ['microelectrode-guided posteroventral pallidotomy'],\n",
              " 'soft tissue sarcomas': ['radiotherapy'],\n",
              " \"eisenmenger 's syndrome\": ['laparoscopic cholecystectomy'],\n",
              " 'advanced esophageal cancer': ['adjuvant chemoradiotherapy with cddp'],\n",
              " 'leukemia': ['trisomy'],\n",
              " 'inoperable advanced malignancies such as colorectal cancer': ['combination with leucovorin or cisplatin'],\n",
              " 'inflammatory skin diseases': ['topical corticosteroids'],\n",
              " 'nsclc': ['got surgical treatment',\n",
              "  'radiotherapy',\n",
              "  'got surgical treatment',\n",
              "  'radiotherapy',\n",
              "  'platinum-based chemotherapy'],\n",
              " 'sclc': ['got surgical treatment',\n",
              "  'radiotherapy',\n",
              "  'got surgical treatment',\n",
              "  'radiotherapy',\n",
              "  'platinum-based chemotherapy'],\n",
              " 'acute rejection episode': ['therapy with extracorporeal photopheresis'],\n",
              " 'locally advanced non-small-cell lung cancer ( la-nsclc )': ['chemotherapy and radiotherapy )'],\n",
              " 'radiation-induced myelopathy': ['heparin and enoxaparin'],\n",
              " 'limited stage small cell lung cancer': ['vip combination chemotherapy and early concurrent thoracic irradiation'],\n",
              " 'malignant pleural effusions from nsclc': ['systemic chemotherapy'],\n",
              " 'small-cell lung cancer': ['chemotherapy', 'combination chemotherapy'],\n",
              " 'supraclavicular node metastases in nsclc': ['chemoradiotherapy'],\n",
              " 'non-small-cell-lung-cancer ( nsclc )': ['cisplatin and radiotherapy'],\n",
              " 'lung carcinoma': ['videothoracoscopic lobectomy or partial resection',\n",
              "  'open thoracotomy'],\n",
              " 'stage 0 lung carcinoma': ['curative therapy'],\n",
              " 'melanoma': ['surgical resection'],\n",
              " 'ovarian carcinoma brain metastasis': ['surgical resection'],\n",
              " 'colorectal metastases': ['therapeutic vats metastasectomy'],\n",
              " 'advanced nsclc': ['assessing combination chemotherapy of cisplatin , ifosfamide and irinotecan with rhg-csf support'],\n",
              " 'metastatic colorectal cancer': ['intravenous oxaliplatin'],\n",
              " 'platinum-pretreated ovarian cancer': ['oxaliplatin'],\n",
              " \"non-hodgkin 's lymphoma , breast cancer\": ['oxaliplatin'],\n",
              " 'mesothelioma and non-small cell lung cancer': ['oxaliplatin'],\n",
              " 'non-small cell lung cancer': ['combination with paclitaxel and carboplatin'],\n",
              " 'advanced hormone refractory prostate cancer': ['combination with paclitaxel and carboplatin'],\n",
              " 'primary lung cancer': ['resection'],\n",
              " 'adenocarcinoma': ['resection'],\n",
              " 'squamous cell carcinoma': ['resection'],\n",
              " 'stage iii nsclc': ['chemotherapy administered before surgery'],\n",
              " 'primary cancer': ['adjuvant radiation therapy', 'immunotherapy'],\n",
              " 'advanced non -- small-cell lung cancer': ['paclitaxel plus carboplatin ( pc )',\n",
              "  'vinorelbine plus cisplatin ( vc )'],\n",
              " 'extensive disease': ['platinum dose ( cisplatin plus carboplatin ) in combination chemotherapy',\n",
              "  'combination therapy with carboplatin alone'],\n",
              " 'neutropenia during cancer': ['chemotherapy'],\n",
              " 'head and neck cancer': ['intravenous amifostine'],\n",
              " ' xerostomia': ['intravenous amifostine'],\n",
              " 'acute myocardial infarction': ['thrombolytic therapy'],\n",
              " 'psoriasis': ['topical application of active vitamin d3 analogue , 1 alpha , 24-dihydroxycholecalciferol'],\n",
              " 'disseminated malignant melanoma': ['leukocyte a recombinant interferon ( rifn-alpha'],\n",
              " 'advanced stage ( tnm iib-ivb ) mycosis fungoides': ['a combination chemotherapy program consisting of bleomycin and methotrexate weekly , doxorubicin every'],\n",
              " 'ventricular tachycardia': ['guiding surgical therapy'],\n",
              " 'spinal adhesive arachnoiditis': ['surgical management'],\n",
              " 'bronchiectasis': ['antibiotics and surgery', 'current surgical therapy'],\n",
              " 'biliary colic symptoms': ['cholecystectomy'],\n",
              " 'biliary dyskinesia': ['cholecystectomy'],\n",
              " 'the common cold': ['pseudoephedrine plus acetaminophen'],\n",
              " 'asthma': ['fluticasone propionate', 'several inhaled corticosteroids'],\n",
              " 'acute nasopharyngitis ( anp )': ['antibiotic treatment'],\n",
              " 'symptoms of a common cold': ['macrolide antibiotics'],\n",
              " 'rhinovirus colds': ['clarithromycin'],\n",
              " 'rhinovirus': ['clarithromycin'],\n",
              " 'infection': ['a combination of omeprazole , amoxicillin , and clarithromycin'],\n",
              " 'persistent asthma': ['contemporary asthma management guidelines list inhaled corticosteroids'],\n",
              " 'chronic hepatitis c': ['combination therapy with interferon-alpha ( ifn alpha ) plus ribavirin'],\n",
              " 'hepatitis c viremia': ['combination therapy'],\n",
              " 'severe hypoxemia': ['glucocorticoid pulse therapy'],\n",
              " 'peritoneal tumors': ['subcutaneous injection of irradiated llc-il2'],\n",
              " 'acute occlusion of the middle cerebral artery': ['thrombolytic therapy'],\n",
              " 'inflammatory and autoimmune diseases': ['high-dose intravenous immunoglobulin ( hdivig )'],\n",
              " 'phaeochromocytoma': ['adrenalectomy'],\n",
              " 'malignant melanoma': ['interferon alfa-2a'],\n",
              " 'advanced renal cell carcinoma': ['various interferon alpha preparations',\n",
              "  'interferon alfa-n1 , interferon alfa-2a , and interferon alfa-2b'],\n",
              " \"low-grade non-hodgkin 's lymphoma\": ['interferon alpha'],\n",
              " 'partial seizures': ['lamotrigine ( ltg )', 'lamotrigine monotherapy'],\n",
              " 'esophageal achalasia': ['botulinum toxin injection , pneumatic dilation , and laparoscopic myotomy'],\n",
              " 'irritable bowel syndrome': ['chinese herbal medicine'],\n",
              " 'proximal hypospadias': ['tubularized incised plate hypospadias repair'],\n",
              " 'tumors': ['immunotherapy'],\n",
              " 'mitomycin-resistant bladder cancer': ['photodynamic therapy in combination with mitomycin c'],\n",
              " 'b16 melanoma': ['adenosine triphosphate and treatment with buthionine sulfoximine'],\n",
              " 'primary uveal melanoma': ['transpupillary thermotherapy'],\n",
              " 'acute cerebral ischemia': ['antiplatelet therapy'],\n",
              " 'renal cell carcinoma': ['interferon treatment'],\n",
              " 'myocardial angiogenesis': ['gene therapy'],\n",
              " 'autoimmune hemolytic anemia': ['heparin'],\n",
              " 'epithelial ovarian cancer': ['high-dose chemotherapy'],\n",
              " 'atrial fibrillation': ['antiplatelet therapy'],\n",
              " 'moderately symptomatic benign prostatic hyperplasia': ['surgical resection'],\n",
              " 'acoustic neuroma': ['stereotactic radiosurgery'],\n",
              " 'postvitrectomy diabetic vitreous hemorrhage': ['peripheral retinal cryotherapy'],\n",
              " 'hepatitis b': ['vaccine containing mf59 adjuvant'],\n",
              " 'severe secondary peritonitis': ['surgical management'],\n",
              " 'hepatic metastases from colorectal cancer': ['hepatic arterial infusion of chemotherapy after resection']}"
            ]
          },
          "metadata": {},
          "execution_count": 32
        }
      ],
      "source": [
        "# Obtaining a cleaned version of our \"disease_treatment\" dictionary\n",
        "dt_dict = {}\n",
        "for key in disease_treatment.keys():\n",
        "    if disease_treatment[key] != []:\n",
        "        dt_dict[key] = disease_treatment[key]\n",
        "dt_dict"
      ]
    },
    {
      "cell_type": "markdown",
      "metadata": {
        "id": "rPjS2qOU7WUw"
      },
      "source": [
        "## Predict the treatment for the disease name: 'hereditary retinoblastoma'"
      ]
    },
    {
      "cell_type": "code",
      "execution_count": 33,
      "metadata": {
        "colab": {
          "base_uri": "https://localhost:8080/"
        },
        "id": "4FhPYRrMXz5S",
        "outputId": "cdc931dc-1399-4839-825e-53dbbc36539c"
      },
      "outputs": [
        {
          "output_type": "stream",
          "name": "stdout",
          "text": [
            "Treatments for 'hereditary retinoblastoma' is/are 'radiotherapy'\n"
          ]
        }
      ],
      "source": [
        "search_item = 'hereditary retinoblastoma'\n",
        "treatments = dt_dict[search_item]\n",
        "print(\"Treatments for '{0}' is/are \".format(search_item), end = \"\")\n",
        "for i in range(len(treatments)-1):\n",
        "    print(\"'{}'\".format(treatments[i]),\",\", end=\"\")\n",
        "print(\"'{}'\".format(treatments[-1]))"
      ]
    },
    {
      "cell_type": "code",
      "source": [],
      "metadata": {
        "id": "tHrjiK0NrK8X"
      },
      "execution_count": null,
      "outputs": []
    }
  ],
  "metadata": {
    "accelerator": "GPU",
    "colab": {
      "provenance": []
    },
    "gpuClass": "standard",
    "kernelspec": {
      "display_name": "Python 3 (ipykernel)",
      "language": "python",
      "name": "python3"
    },
    "language_info": {
      "codemirror_mode": {
        "name": "ipython",
        "version": 3
      },
      "file_extension": ".py",
      "mimetype": "text/x-python",
      "name": "python",
      "nbconvert_exporter": "python",
      "pygments_lexer": "ipython3",
      "version": "3.9.12"
    }
  },
  "nbformat": 4,
  "nbformat_minor": 0
}